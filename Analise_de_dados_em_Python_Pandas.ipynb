{
  "nbformat": 4,
  "nbformat_minor": 0,
  "metadata": {
    "colab": {
      "provenance": [],
      "authorship_tag": "ABX9TyOX4tK8MhV4c1UKYJ0nQKbd",
      "include_colab_link": true
    },
    "kernelspec": {
      "name": "python3",
      "display_name": "Python 3"
    },
    "language_info": {
      "name": "python"
    }
  },
  "cells": [
    {
      "cell_type": "markdown",
      "metadata": {
        "id": "view-in-github",
        "colab_type": "text"
      },
      "source": [
        "<a href=\"https://colab.research.google.com/github/VitorK61/Curso_de_Exetens-o_Analise_de_dados_em_python_pandas/blob/main/Analise_de_dados_em_Python_Pandas.ipynb\" target=\"_parent\"><img src=\"https://colab.research.google.com/assets/colab-badge.svg\" alt=\"Open In Colab\"/></a>"
      ]
    },
    {
      "cell_type": "markdown",
      "source": [
        "**Manipulação de dados usando Python Pandas**\n",
        "\n",
        "Professor: Henrique Poyatos\n",
        "\n",
        "Aluno: Vitor Knabben\n",
        "\n",
        "Data: 6 de fevereiro de 2023"
      ],
      "metadata": {
        "id": "ksEGJEqbUfvi"
      }
    },
    {
      "cell_type": "code",
      "source": [
        "!pip install pandas"
      ],
      "metadata": {
        "id": "iapV2xsVV-D_"
      },
      "execution_count": null,
      "outputs": []
    },
    {
      "cell_type": "code",
      "execution_count": null,
      "metadata": {
        "id": "N1axA0M4CSPw"
      },
      "outputs": [],
      "source": [
        "# Importando bibliotecas pandas no Python;\n",
        "\n",
        "import pandas as pd\n",
        "\n",
        "combustiveis_df = pd.read_excel(\"ca-2021-02.xlsx\")"
      ]
    },
    {
      "cell_type": "code",
      "source": [
        "# Exibindo a tabela padrão;\n",
        "\n",
        "print(combustiveis_df)"
      ],
      "metadata": {
        "id": "ldJUFTWzHBke"
      },
      "execution_count": null,
      "outputs": []
    },
    {
      "cell_type": "code",
      "source": [
        "# Exibindo a tabela com uma formatação mais robusta;\n",
        "\n",
        "display(combustiveis_df)"
      ],
      "metadata": {
        "id": "DeBCd7jSHN4G"
      },
      "execution_count": null,
      "outputs": []
    },
    {
      "cell_type": "code",
      "source": [
        "# Exibe apenas as primeiras 5 linhas;\n",
        "\n",
        "display(combustiveis_df.head())"
      ],
      "metadata": {
        "id": "uyB9IawvE7Ds"
      },
      "execution_count": null,
      "outputs": []
    },
    {
      "cell_type": "code",
      "source": [
        "# Exibe apenas as primeiras 15 linhas;\n",
        "\n",
        "display(combustiveis_df.head(15))"
      ],
      "metadata": {
        "id": "WTgNUytkCTvL"
      },
      "execution_count": null,
      "outputs": []
    },
    {
      "cell_type": "code",
      "source": [
        "# Comandos Dataframe.shape;\n",
        "\n",
        "# Linhas e Colunas;\n",
        "print(combustiveis_df.shape)\n",
        "\n",
        "# Apenas Linhas;\n",
        "print(combustiveis_df.shape[0])"
      ],
      "metadata": {
        "id": "AgCVWjLqHdW1"
      },
      "execution_count": null,
      "outputs": []
    },
    {
      "cell_type": "code",
      "source": [
        "# Dataframe.describe() - Resumo estastico de cada coluna númerica;\n",
        "\n",
        "print(combustiveis_df.describe())"
      ],
      "metadata": {
        "id": "1PTv1WhnJtq4"
      },
      "execution_count": null,
      "outputs": []
    },
    {
      "cell_type": "code",
      "source": [
        "# Colunas e classificação de dados;\n",
        "\n",
        "print(combustiveis_df.info())"
      ],
      "metadata": {
        "id": "zjgtkWlYKcTW"
      },
      "execution_count": null,
      "outputs": []
    },
    {
      "cell_type": "code",
      "source": [
        "# Filtrar apenas por uma coluna\n",
        "\n",
        "display(combustiveis_df['Revenda'])"
      ],
      "metadata": {
        "id": "MjtWRoykYVp3"
      },
      "execution_count": null,
      "outputs": []
    },
    {
      "cell_type": "code",
      "source": [
        "# Novo Dataframe com colunas especificas para otimização\n",
        "\n",
        "ca_df = combustiveis_df[['Revenda', 'Municipio', 'Produto','Valor de Venda']]\n",
        "\n",
        "display(ca_df)"
      ],
      "metadata": {
        "id": "KGi6rhtrZj-j"
      },
      "execution_count": null,
      "outputs": []
    },
    {
      "cell_type": "code",
      "source": [
        "# Exibição de Linha especifica\n",
        "\n",
        "display(ca_df.loc[3])"
      ],
      "metadata": {
        "id": "etGqgZE3bVpv"
      },
      "execution_count": null,
      "outputs": []
    },
    {
      "cell_type": "code",
      "source": [
        "# Exibição da Décima linha até a Vigesima\n",
        "\n",
        "display(ca_df.loc[9:19])"
      ],
      "metadata": {
        "id": "FK2f8SwndGOT"
      },
      "execution_count": null,
      "outputs": []
    },
    {
      "cell_type": "code",
      "source": [
        "# Criando Dataframe com as seguintes colunas (Revenda, Municipio, Produto e Valor de venda)\n",
        "# Apenas Gasolina Comum\n",
        "\n",
        "gaso_df = ca_df.loc[ca_df['Produto'] == 'GASOLINA']\n",
        "\n",
        "display(gaso_df)\n",
        "\n",
        "display(gaso_df['Valor de Venda'].max())\n",
        "\n",
        "display(gaso_df[['Valor de Venda', 'Municipio', 'Revenda']].max())"
      ],
      "metadata": {
        "id": "ysAxknLMdpIR"
      },
      "execution_count": null,
      "outputs": []
    },
    {
      "cell_type": "code",
      "source": [
        "from google.colab import drive\n",
        "drive.mount('/content/drive')"
      ],
      "metadata": {
        "id": "n1J6ulWW56YS"
      },
      "execution_count": null,
      "outputs": []
    }
  ]
}